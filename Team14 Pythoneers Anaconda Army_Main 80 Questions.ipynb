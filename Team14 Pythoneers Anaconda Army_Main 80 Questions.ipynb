{
 "cells": [
  {
   "cell_type": "markdown",
   "id": "28905cfa-fc83-4edf-8c0b-eba291903a6e",
   "metadata": {},
   "source": [
    " # MAIN 80 QUESTIONS "
   ]
  },
  {
   "cell_type": "markdown",
   "id": "653f752a-d041-41f7-a11d-e9cd710eaa2d",
   "metadata": {},
   "source": []
  }
 ],
 "metadata": {
  "kernelspec": {
   "display_name": "Python [conda env:base] *",
   "language": "python",
   "name": "conda-base-py"
  },
  "language_info": {
   "codemirror_mode": {
    "name": "ipython",
    "version": 3
   },
   "file_extension": ".py",
   "mimetype": "text/x-python",
   "name": "python",
   "nbconvert_exporter": "python",
   "pygments_lexer": "ipython3",
   "version": "3.12.7"
  }
 },
 "nbformat": 4,
 "nbformat_minor": 5
}
