{
 "cells": [
  {
   "cell_type": "code",
   "execution_count": 1,
   "id": "eaa9670b-982f-420c-84c3-fbbe3829b48f",
   "metadata": {},
   "outputs": [],
   "source": [
    "students = {\n",
    "    'student1': {\n",
    "        'name': 'John Doe',\n",
    "        'age': 16,\n",
    "        'grades': {\n",
    "            'math': 85,\n",
    "            'english': 90,\n",
    "            'science': 78\n",
    "        },\n",
    "        'attendance': 12,\n",
    "        'extra_curricular': ['basketball', 'drama club']\n",
    "    },\n",
    "    'student2': {\n",
    "        'name': 'Jane Smith',\n",
    "        'age': 17,\n",
    "        'grades': {\n",
    "            'math': 92,\n",
    "            'english': 87,\n",
    "            'science': 80\n",
    "        },\n",
    "        'attendance': 95,\n",
    "        'extra_curricular': ['chess club', 'volunteer work']\n",
    "    },\n",
    "    'student3': {\n",
    "        'name': 'Alice Johnson',\n",
    "        'age': 16,\n",
    "        'grades': {\n",
    "            'math': 69,\n",
    "            'english': 85,\n",
    "            'science': 88\n",
    "        },\n",
    "        'attendance': 88,\n",
    "        'extra_curricular': ['music', 'debate club']\n",
    "    }\n",
    "}"
   ]
  },
  {
   "cell_type": "code",
   "execution_count": 8,
   "id": "203aeeb5-ecf2-4f59-9969-7551efd7c58a",
   "metadata": {},
   "outputs": [
    {
     "name": "stdout",
     "output_type": "stream",
     "text": [
      "John Doe's attendance is 12\n",
      "Poor Attendance\n",
      "Jane Smith's attendance is 95\n",
      "Good Attendance\n",
      "Alice Johnson's attendance is 88\n",
      "Poor Attendance\n"
     ]
    }
   ],
   "source": [
    "#Q1) Write an if-elif-else statement that checks the attendance of each student. If the attendance is greater than or equal to 90%, print \"Good Attendance\", if it's between 75% and 89%, print \"Average Attendance\", otherwise print \"Poor Attendance\"\n",
    "\n",
    "\n",
    "for key,student in students.items():\n",
    "    attendance=student['attendance']\n",
    "    print(f\"{student['name']}'s attendance is {attendance}\")\n",
    "    if attendance>=90:\n",
    "        print (\"Good Attendance\")\n",
    "    elif attendance>=75 and attendance>=89:\n",
    "        print (\"Average Attendance\")\n",
    "    else:\n",
    "        print (\"Poor Attendance\")\n",
    "        \n",
    "        \n",
    "\n",
    "\n",
    "\n",
    "\n",
    "\n",
    "\n",
    "\n",
    "\n"
   ]
  },
  {
   "cell_type": "code",
   "execution_count": 44,
   "id": "4ee564db-a0d7-41fc-aaad-ac62e9db7e72",
   "metadata": {},
   "outputs": [
    {
     "name": "stdout",
     "output_type": "stream",
     "text": [
      "John Doe\n",
      "Jane Smith\n",
      "Alice Johnson\n"
     ]
    }
   ],
   "source": [
    "#Q2) Use a for loop to print the names of all students in the students dictionary\n",
    "for key,student in students.items():\n",
    "    print(student['name'])"
   ]
  },
  {
   "cell_type": "code",
   "execution_count": 5,
   "id": "19232026-e1a2-4d01-ab78-67f2d09cac05",
   "metadata": {},
   "outputs": [
    {
     "name": "stdout",
     "output_type": "stream",
     "text": [
      "Check attendance\n",
      "Check attendance\n",
      "Check attendance\n",
      "Check attendance\n",
      "Check attendance\n",
      "Check attendance\n",
      "Check attendance\n",
      "All students attendance is above 80\n"
     ]
    }
   ],
   "source": [
    "#Write a while loop that keeps checking the attendance of students and prints \"Check Attendance\" until the attendance of all students is above 80%\n",
    "flag=False\n",
    "while not flag:\n",
    "    flag=True\n",
    "    for key,student in students.items():\n",
    "      attendance=student['attendance']\n",
    "      if attendance<=80:\n",
    "        student['attendance'] += 10 \n",
    "        print(\"Check attendance\")\n",
    "        flag=False;\n",
    "        break;\n",
    "print(\"All students attendance is above 80\")            \n",
    "\n"
   ]
  },
  {
   "cell_type": "code",
   "execution_count": 81,
   "id": "f6cf4207-d0ec-418e-ae9a-b626f63c8668",
   "metadata": {},
   "outputs": [
    {
     "name": "stdout",
     "output_type": "stream",
     "text": [
      "John Doe:Pass\n",
      "Jane Smith:Pass\n",
      "Alice Johnson:Pass\n"
     ]
    }
   ],
   "source": [
    "#4)Write a for loop that iterates over each student, and inside the loop, use a nested if to print \"Pass\" if the average grade of the student is greater than or equal to 80, and \"Fail\" if it’s less.\n",
    "for key, student in students.items():\n",
    "    grades = student['grades'].values()\n",
    "    avg_grades=sum(grades)/len(grades)\n",
    "    #print(avg_grades)\n",
    "    if avg_grades>= 80:\n",
    "        print(f\"{student['name']}:Pass\")\n",
    "    else:\n",
    "        print(f\"{student['name']}:Fail\")\n",
    "\n",
    "    \n",
    "\n",
    "\n",
    "\n",
    "\n"
   ]
  },
  {
   "cell_type": "code",
   "execution_count": 27,
   "id": "5578ccf3-330f-4a4b-bdb8-15f1ef36e734",
   "metadata": {},
   "outputs": [
    {
     "name": "stdout",
     "output_type": "stream",
     "text": [
      "math: 85\n",
      "english: 90\n",
      "science: 78\n",
      "math: 92\n",
      "english: 87\n",
      "science: 80\n",
      "math : 69 - Needs Improvement\n",
      "english: 85\n",
      "science: 88\n"
     ]
    }
   ],
   "source": [
    "#5)Use a nested for loop to print the name of the student and their grades for each subject. Then, check if any grade is below 75; if so, print \"Needs Improvement\" next to that subject's grade.¶\n",
    "\n",
    "for key, student in students.items():\n",
    "    #print(f\"{student['name']}'s grade are {list(student['grades'].values())}\")\n",
    "    for subject,grade in student['grades'].items():\n",
    "        if grade<75:\n",
    "            print(f\"{subject} : {grade} - Needs Improvement\")\n",
    "        else:\n",
    "             print(f\"{subject}: {grade}\")    \n",
    "\n",
    "\n",
    "\n",
    "\n",
    "\n",
    "\n",
    "\n",
    "\n",
    "\n",
    "\n",
    "\n"
   ]
  },
  {
   "cell_type": "code",
   "execution_count": 10,
   "id": "40cfa406-efa0-4e1d-91ab-105778457b10",
   "metadata": {},
   "outputs": [
    {
     "name": "stdout",
     "output_type": "stream",
     "text": [
      "John Doe-math:85-Good\n",
      "John Doe-english:90-Good\n",
      "John Doe-science:78-Good\n",
      "Jane Smith-math:92-Excellent\n",
      "Jane Smith-english:87-Good\n",
      "Jane Smith-science:80-Good\n",
      "Alice Johnson-math:69-Good\n",
      "Alice Johnson-english:85-Good\n",
      "Alice Johnson-science:88-Good\n"
     ]
    }
   ],
   "source": [
    "#6)Write an if-elif-else statement inside a for loop that iterates over the grades for each student. If the grade is 90 or above, print \"Excellent\"; if it is between 75 and 89, print \"Good\"; otherwise, print \"Needs Improvement\".\n",
    "\n",
    "for key,student in students.items():\n",
    "    #print(f\"{student['name']}'s grades are {list(student['grades'].values())}\")\n",
    "    for subject, grade in student['grades'].items():\n",
    "        if grade>90:\n",
    "           print(f\"{student['name']}-{subject}:{grade}-Excellent\") \n",
    "        elif grade>=75 & grade<=89:\n",
    "             print(f\"{student['name']}-{subject}:{grade}-Good\") \n",
    "        else:   \n",
    "             print(f\"{student['name']}-{subject}:{grade}-Needs Improvement\")\n",
    "            \n",
    "\n",
    "\n",
    "\n"
   ]
  },
  {
   "cell_type": "code",
   "execution_count": 115,
   "id": "7d2bbf4d-7c4c-4e07-af5f-1965d79e3a98",
   "metadata": {},
   "outputs": [
    {
     "name": "stdout",
     "output_type": "stream",
     "text": [
      "Jane Smith 86.33 Good Performance\n"
     ]
    }
   ],
   "source": [
    "#7)Write a while loop to calculate the average grade for each student (average of math, english, and science), and print \"Good Performance\" if the average grade is 85 or above.¶\n",
    "stu_list=list(students.items())\n",
    "i=0\n",
    "while i<len(stu_list):\n",
    "    _,details= stu_list[i]\n",
    "    # print(details[\"name\"])\n",
    "    # print(details[\"grades\"])\n",
    "    # res = round(sum([score for _,score in list(details[\"grades\"].items())])/len(details[\"grades\"]),2)\n",
    "    j=0\n",
    "    total=0\n",
    "    scores = list(details[\"grades\"].values())\n",
    "    while(j<len(scores)):\n",
    "        total += scores[j]\n",
    "        j+=1\n",
    "    res = round(total/len(scores),2)\n",
    "    if res >= 85:\n",
    "        print(details[\"name\"], res, \"Good Performance\")\n",
    "    i+=1\n"
   ]
  },
  {
   "cell_type": "code",
   "execution_count": 5,
   "id": "bf27a43b-11a1-4e03-bdd5-870e6710bc20",
   "metadata": {},
   "outputs": [
    {
     "name": "stdout",
     "output_type": "stream",
     "text": [
      "John Doe's attendance is 12\n",
      "Attendance Alert\n",
      "Jane Smith's attendance is 95\n",
      "Alice Johnson's attendance is 88\n"
     ]
    }
   ],
   "source": [
    "#Q8) Use a while loop to check and print the attendance of each student. Inside the loop, use a nested if to check if the attendance is below 80%. If so, print \"Attendance Alert\"\n",
    "\n",
    "stu_list=list(students.items())\n",
    "#print(stu_list[0])\n",
    "\n",
    "i=0;\n",
    "while i<len(stu_list):\n",
    "    _,details=stu_list[i]\n",
    "    attendance=details['attendance']\n",
    "    print(f\"{details['name']}'s attendance is {details['attendance']}\" )\n",
    "    if attendance < 80:\n",
    "        print(\"Attendance Alert\")\n",
    "    i+=1        \n",
    "    \n",
    "    \n",
    "\n",
    "\n",
    "\n",
    "\n",
    "\n",
    "\n",
    "\n"
   ]
  },
  {
   "cell_type": "code",
   "execution_count": 79,
   "id": "98afdae9-30b2-4778-b631-257bc79d00d7",
   "metadata": {},
   "outputs": [
    {
     "name": "stdout",
     "output_type": "stream",
     "text": [
      "No of activities that John Doe participated is: 2\n",
      "Moderately Involved\n",
      "No of activities that Jane Smith participated is: 2\n",
      "Moderately Involved\n",
      "No of activities that Alice Johnson participated is: 2\n",
      "Moderately Involved\n"
     ]
    }
   ],
   "source": [
    "#Q9) Write an if-elif-else statement that checks the number of extra-curricular activities each student participates in. If the student is in more than 2 activities, print \"Highly Involved\"; if 1 or 2, print \"Moderately Involved\"; otherwise, print \"Not Involved\"\n",
    "\n",
    "for key,student in students.items():\n",
    "    extra_curricular_activities=student['extra_curricular']\n",
    "    #print (len(extra_curricular_activities))\n",
    "    print(f\"No of activities that {student['name']} participated is: {len(extra_curricular_activities)}\")\n",
    "    if len(extra_curricular_activities)>2:\n",
    "        print(\"Highly Involved\")\n",
    "    elif len(extra_curricular_activities)==1 or len(extra_curricular_activities)==2:\n",
    "        print(\"Moderately Involved\")\n",
    "    else:\n",
    "        print(\"Not Involved\")\n",
    "\n",
    "\n",
    "\n",
    "\n",
    "\n"
   ]
  },
  {
   "cell_type": "code",
   "execution_count": 27,
   "id": "0f0812bf-df20-4d71-a784-f4a8d1f62897",
   "metadata": {},
   "outputs": [
    {
     "name": "stdout",
     "output_type": "stream",
     "text": [
      "Alice Johnson,has the lowest mark below 75 % in math\n"
     ]
    }
   ],
   "source": [
    "#Q10) Use a nested for loop to iterate through each student’s grades. If a student has a grade below 75 in any subject, print that student's name and the subject where the grade is low¶\n",
    "\n",
    "for _,student in students.items():\n",
    "    #details=student['grades'].values()\n",
    "   # print(details)\n",
    "    for subject,grade in student['grades'].items() :\n",
    "        if grade<75:\n",
    "            print(f\"{student['name']},has the lowest mark below 75 % in {subject}\")\n",
    "\n",
    "\n",
    "\n",
    "\n",
    "\n"
   ]
  },
  {
   "cell_type": "code",
   "execution_count": 77,
   "id": "d1288d82-1fb2-457c-920e-5f6f1a354e33",
   "metadata": {},
   "outputs": [
    {
     "name": "stdout",
     "output_type": "stream",
     "text": [
      "Jane Smith\n"
     ]
    }
   ],
   "source": [
    "#Q11) Write a for loop that checks if any student participates in \"chess club\". If so, print the student’s name.¶\n",
    "\n",
    "for _,student in students.items():\n",
    "    ex_curr=student['extra_curricular']\n",
    "   # print(ex_curr)\n",
    "    for j in ex_curr:\n",
    "        if j.lower()==\"chess club\":\n",
    "            print(f\"{student['name']}\")\n",
    "        \n",
    "\n",
    "\n",
    "\n"
   ]
  },
  {
   "cell_type": "code",
   "execution_count": 117,
   "id": "33b22923-8198-4b57-9613-4adf237f0d4e",
   "metadata": {},
   "outputs": [
    {
     "name": "stdout",
     "output_type": "stream",
     "text": [
      "Jane Smith\n"
     ]
    }
   ],
   "source": [
    "#Q12) Write a comparison using if-elif-else to check which student has the highest grade in math, and print their name¶\n",
    "\n",
    "high=-1;\n",
    "topper=\"\"\n",
    "for _,student in students.items():\n",
    "    math_grade= student['grades']['math']\n",
    "    if math_grade>high:\n",
    "        high=math_grade\n",
    "        topper=student['name']\n",
    "print(topper)\n",
    "   \n",
    "            \n",
    "            \n",
    "       \n",
    "       \n",
    "\n",
    "\n",
    "\n",
    "\n"
   ]
  },
  {
   "cell_type": "code",
   "execution_count": 12,
   "id": "ce7fcf5e-7e32-457c-a8dd-e68c9b890439",
   "metadata": {},
   "outputs": [],
   "source": [
    "#Q13) Write a while loop that iterates over the math grades of all students and checks if any student has failed (i.e., a grade less than 50).Print their name and \"Failed\"¶\n",
    "\n",
    "stu_list=list(students.items())\n",
    "i=0\n",
    "while i<len(stu_list):\n",
    "    _,details=stu_list[i]\n",
    "    math_grade=details['grades']['math']\n",
    "    if math_grade<50:\n",
    "        print(f\"{student['name']} fails in maths with grade{math_grade}\")\n",
    "    i+=1\n",
    "    \n",
    "        \n",
    "\n"
   ]
  },
  {
   "cell_type": "code",
   "execution_count": 14,
   "id": "d1a07684-221a-472e-823a-6ba9f2ed1535",
   "metadata": {},
   "outputs": [
    {
     "name": "stdout",
     "output_type": "stream",
     "text": [
      "John Doe- Needs Improvement\n",
      "Jane Smith- Excellent\n",
      "Alice Johnson- Needs Improvement\n"
     ]
    }
   ],
   "source": [
    "#Q14) Write a nested for loop to categorize students based on their grades. If the student has a grade in math greater than 90, categorize them as \"Excellent\". If the grade is between 75 and 90, categorize them as \"Good\", and if below 75, categorize them as \"Needs Improvement\"\n",
    "\n",
    "for _,student in students.items():\n",
    "    for sub,grade in student['grades'].items():\n",
    "        if sub=='math':\n",
    "            if grade>=91:\n",
    "                print(f\"{student['name']}- Excellent\")\n",
    "            elif grade>=75 and grade>=90:\n",
    "                 print(f\"{student['name']}- Good\")\n",
    "            else:\n",
    "                 print(f\"{student['name']}- Needs Improvement\")\n",
    "            \n",
    "\n",
    "\n",
    "\n",
    "\n"
   ]
  },
  {
   "cell_type": "code",
   "execution_count": 55,
   "id": "5d19c614-6b5b-4c25-9104-743e81fd4839",
   "metadata": {},
   "outputs": [
    {
     "name": "stdout",
     "output_type": "stream",
     "text": [
      "John Doe\n",
      "Total students in basketball: 1\n"
     ]
    }
   ],
   "source": [
    "#Q15) Write a for loop to check how many students have \"basketball\" in their list of extra-curricular activities.\n",
    "\n",
    "count=0\n",
    "for _,student in students.items():\n",
    "    ex_curr=student['extra_curricular']\n",
    "    for j in ex_curr:\n",
    "         if j.lower()=='basketball':\n",
    "           print(student['name'])\n",
    "           count+=1\n",
    "           break;\n",
    "print(f\"Total students in basketball: {count}\")         \n",
    "    \n",
    "\n",
    "\n",
    "\n"
   ]
  },
  {
   "cell_type": "code",
   "execution_count": 61,
   "id": "5d31398a-7186-4fea-bef1-36317c6d5574",
   "metadata": {},
   "outputs": [
    {
     "name": "stdout",
     "output_type": "stream",
     "text": [
      "Above 80 in math\n"
     ]
    }
   ],
   "source": [
    "#Q16) Write an if statement to check if student1 has a grade greater than 80 in math. If so, print \"Above 80 in Math\"\n",
    "\n",
    "for key,student in students.items():\n",
    "    for sub,grade in student['grades'].items():\n",
    "        if sub=='math':\n",
    "            if key=='student1' and grade>80:\n",
    "                print(\"Above 80 in math\")\n",
    "                \n",
    "\n",
    "\n",
    "\n"
   ]
  },
  {
   "cell_type": "code",
   "execution_count": 71,
   "id": "ef8d1044-6e57-483e-a0fc-9752cfaa6d64",
   "metadata": {},
   "outputs": [
    {
     "name": "stdout",
     "output_type": "stream",
     "text": [
      "Participates in Drama Club\n"
     ]
    }
   ],
   "source": [
    "#Q17) Write an if statement to check if student1 participates in the \"drama club\". If so, print \"Participates in Drama Club\"\n",
    "for key,student in students.items():\n",
    "   ex_curr=student['extra_curricular']\n",
    "   for j in ex_curr:\n",
    "     if key=='student1' and j.lower()=='drama club':\n",
    "       print(\"Participates in Drama Club\")\n",
    "               \n",
    "\n",
    "\n"
   ]
  },
  {
   "cell_type": "code",
   "execution_count": 75,
   "id": "9561d8d2-435b-42a5-8770-012b4f967067",
   "metadata": {},
   "outputs": [
    {
     "name": "stdout",
     "output_type": "stream",
     "text": [
      "Good Attendance\n"
     ]
    }
   ],
   "source": [
    "#Q18) Write an if statement to check if student2 has an attendance greater than 90%. If so, print \"Good Attendance\"\n",
    "\n",
    "for key,student in students.items():\n",
    "   attendance=student['attendance']\n",
    "   if key=='student2' and attendance>90:\n",
    "       print(\"Good Attendance\")\n",
    "\n"
   ]
  },
  {
   "cell_type": "code",
   "execution_count": 93,
   "id": "a758e751-79ea-4019-802d-6e74d2148489",
   "metadata": {},
   "outputs": [
    {
     "name": "stdout",
     "output_type": "stream",
     "text": [
      "The highest grade in science is obtained by Alice Johnson\n"
     ]
    }
   ],
   "source": [
    "#Q19) Write a simple if-else statement to check which student has the highest grade in science (between student1, student2, and student3) and print their name.\n",
    "high=-1;\n",
    "topper=\"\"\n",
    "for _,student in students.items():\n",
    "        max_grade=student['grades']['science']\n",
    "        if sub=='science':\n",
    "            if max_grade>high:\n",
    "                high=max_grade\n",
    "                topper=student['name']\n",
    "print(f\"The highest grade in science is obtained by {student['name']}\")    \n",
    "            \n",
    "        \n",
    "\n",
    "\n",
    "\n"
   ]
  },
  {
   "cell_type": "code",
   "execution_count": 95,
   "id": "0348f67d-a40e-4c5d-a3f7-df60c3fa1767",
   "metadata": {},
   "outputs": [
    {
     "name": "stdout",
     "output_type": "stream",
     "text": [
      "Student is under 18 years old.\n"
     ]
    }
   ],
   "source": [
    "#Q20) Write an if statement to check if student3 is younger than 18. If so, print \"Student is under 18 years old.\"\n",
    "for key,student in students.items():\n",
    "   age=student['age']\n",
    "   if key=='student3' and age<18:\n",
    "       print(\"Student is under 18 years old.\")\n",
    "\n",
    "\n",
    "\n"
   ]
  },
  {
   "cell_type": "code",
   "execution_count": null,
   "id": "1f57f192-590b-4ad2-a4ad-41f9396181b3",
   "metadata": {},
   "outputs": [],
   "source": []
  }
 ],
 "metadata": {
  "kernelspec": {
   "display_name": "Python [conda env:base] *",
   "language": "python",
   "name": "conda-base-py"
  },
  "language_info": {
   "codemirror_mode": {
    "name": "ipython",
    "version": 3
   },
   "file_extension": ".py",
   "mimetype": "text/x-python",
   "name": "python",
   "nbconvert_exporter": "python",
   "pygments_lexer": "ipython3",
   "version": "3.12.7"
  }
 },
 "nbformat": 4,
 "nbformat_minor": 5
}
